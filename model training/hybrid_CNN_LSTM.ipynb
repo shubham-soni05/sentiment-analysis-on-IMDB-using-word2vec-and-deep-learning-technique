{
 "cells": [
  {
   "cell_type": "code",
   "execution_count": 4,
   "id": "90c4c8d7",
   "metadata": {},
   "outputs": [
    {
     "name": "stdout",
     "output_type": "stream",
     "text": [
      "Device: cuda\n",
      "Starting training...\n"
     ]
    },
    {
     "name": "stderr",
     "output_type": "stream",
     "text": [
      "Epoch 1/20: 100%|██████████| 625/625 [00:45<00:00, 13.76it/s]\n"
     ]
    },
    {
     "name": "stdout",
     "output_type": "stream",
     "text": [
      "Epoch 1 Loss: 0.6927, Train Acc: 0.5170, Test Acc: 0.5098\n"
     ]
    },
    {
     "name": "stderr",
     "output_type": "stream",
     "text": [
      "Epoch 2/20: 100%|██████████| 625/625 [00:45<00:00, 13.62it/s]\n"
     ]
    },
    {
     "name": "stdout",
     "output_type": "stream",
     "text": [
      "Epoch 2 Loss: 0.6845, Train Acc: 0.6544, Test Acc: 0.6500\n"
     ]
    },
    {
     "name": "stderr",
     "output_type": "stream",
     "text": [
      "Epoch 3/20: 100%|██████████| 625/625 [00:47<00:00, 13.20it/s]\n"
     ]
    },
    {
     "name": "stdout",
     "output_type": "stream",
     "text": [
      "Epoch 3 Loss: 0.6206, Train Acc: 0.8468, Test Acc: 0.8406\n"
     ]
    },
    {
     "name": "stderr",
     "output_type": "stream",
     "text": [
      "Epoch 4/20: 100%|██████████| 625/625 [00:46<00:00, 13.31it/s]\n"
     ]
    },
    {
     "name": "stdout",
     "output_type": "stream",
     "text": [
      "Epoch 4 Loss: 0.3783, Train Acc: 0.8828, Test Acc: 0.8672\n"
     ]
    },
    {
     "name": "stderr",
     "output_type": "stream",
     "text": [
      "Epoch 5/20: 100%|██████████| 625/625 [00:48<00:00, 12.94it/s]\n"
     ]
    },
    {
     "name": "stdout",
     "output_type": "stream",
     "text": [
      "Epoch 5 Loss: 0.2979, Train Acc: 0.9075, Test Acc: 0.8770\n"
     ]
    },
    {
     "name": "stderr",
     "output_type": "stream",
     "text": [
      "Epoch 6/20: 100%|██████████| 625/625 [00:47<00:00, 13.07it/s]\n"
     ]
    },
    {
     "name": "stdout",
     "output_type": "stream",
     "text": [
      "Epoch 6 Loss: 0.2524, Train Acc: 0.9364, Test Acc: 0.8830\n"
     ]
    },
    {
     "name": "stderr",
     "output_type": "stream",
     "text": [
      "Epoch 7/20: 100%|██████████| 625/625 [00:48<00:00, 12.96it/s]\n"
     ]
    },
    {
     "name": "stdout",
     "output_type": "stream",
     "text": [
      "Epoch 7 Loss: 0.2011, Train Acc: 0.9584, Test Acc: 0.8821\n"
     ]
    },
    {
     "name": "stderr",
     "output_type": "stream",
     "text": [
      "Epoch 8/20: 100%|██████████| 625/625 [01:05<00:00,  9.50it/s]\n"
     ]
    },
    {
     "name": "stdout",
     "output_type": "stream",
     "text": [
      "Epoch 8 Loss: 0.1418, Train Acc: 0.9717, Test Acc: 0.8718\n"
     ]
    },
    {
     "name": "stderr",
     "output_type": "stream",
     "text": [
      "Epoch 9/20: 100%|██████████| 625/625 [00:54<00:00, 11.41it/s]\n"
     ]
    },
    {
     "name": "stdout",
     "output_type": "stream",
     "text": [
      "Epoch 9 Loss: 0.1064, Train Acc: 0.9851, Test Acc: 0.8792\n"
     ]
    },
    {
     "name": "stderr",
     "output_type": "stream",
     "text": [
      "Epoch 10/20: 100%|██████████| 625/625 [00:49<00:00, 12.56it/s]\n"
     ]
    },
    {
     "name": "stdout",
     "output_type": "stream",
     "text": [
      "Epoch 10 Loss: 0.0818, Train Acc: 0.9892, Test Acc: 0.8789\n"
     ]
    },
    {
     "name": "stderr",
     "output_type": "stream",
     "text": [
      "Epoch 11/20: 100%|██████████| 625/625 [00:47<00:00, 13.27it/s]\n"
     ]
    },
    {
     "name": "stdout",
     "output_type": "stream",
     "text": [
      "Epoch 11 Loss: 0.0635, Train Acc: 0.9870, Test Acc: 0.8775\n"
     ]
    },
    {
     "name": "stderr",
     "output_type": "stream",
     "text": [
      "Epoch 12/20: 100%|██████████| 625/625 [00:47<00:00, 13.08it/s]\n"
     ]
    },
    {
     "name": "stdout",
     "output_type": "stream",
     "text": [
      "Epoch 12 Loss: 0.0542, Train Acc: 0.9883, Test Acc: 0.8725\n"
     ]
    },
    {
     "name": "stderr",
     "output_type": "stream",
     "text": [
      "Epoch 13/20: 100%|██████████| 625/625 [00:46<00:00, 13.32it/s]\n"
     ]
    },
    {
     "name": "stdout",
     "output_type": "stream",
     "text": [
      "Epoch 13 Loss: 0.0485, Train Acc: 0.9942, Test Acc: 0.8801\n"
     ]
    },
    {
     "name": "stderr",
     "output_type": "stream",
     "text": [
      "Epoch 14/20: 100%|██████████| 625/625 [00:47<00:00, 13.04it/s]\n"
     ]
    },
    {
     "name": "stdout",
     "output_type": "stream",
     "text": [
      "Epoch 14 Loss: 0.0451, Train Acc: 0.9914, Test Acc: 0.8751\n"
     ]
    },
    {
     "name": "stderr",
     "output_type": "stream",
     "text": [
      "Epoch 15/20: 100%|██████████| 625/625 [00:47<00:00, 13.09it/s]\n"
     ]
    },
    {
     "name": "stdout",
     "output_type": "stream",
     "text": [
      "Epoch 15 Loss: 0.0431, Train Acc: 0.9948, Test Acc: 0.8802\n"
     ]
    },
    {
     "name": "stderr",
     "output_type": "stream",
     "text": [
      "Epoch 16/20: 100%|██████████| 625/625 [00:47<00:00, 13.07it/s]\n"
     ]
    },
    {
     "name": "stdout",
     "output_type": "stream",
     "text": [
      "Epoch 16 Loss: 0.0412, Train Acc: 0.9937, Test Acc: 0.8800\n"
     ]
    },
    {
     "name": "stderr",
     "output_type": "stream",
     "text": [
      "Epoch 17/20: 100%|██████████| 625/625 [00:47<00:00, 13.13it/s]\n"
     ]
    },
    {
     "name": "stdout",
     "output_type": "stream",
     "text": [
      "Epoch 17 Loss: 0.0414, Train Acc: 0.9901, Test Acc: 0.8783\n"
     ]
    },
    {
     "name": "stderr",
     "output_type": "stream",
     "text": [
      "Epoch 18/20: 100%|██████████| 625/625 [00:46<00:00, 13.41it/s]\n"
     ]
    },
    {
     "name": "stdout",
     "output_type": "stream",
     "text": [
      "Epoch 18 Loss: 0.0384, Train Acc: 0.9951, Test Acc: 0.8748\n"
     ]
    },
    {
     "name": "stderr",
     "output_type": "stream",
     "text": [
      "Epoch 19/20: 100%|██████████| 625/625 [00:48<00:00, 12.78it/s]\n"
     ]
    },
    {
     "name": "stdout",
     "output_type": "stream",
     "text": [
      "Epoch 19 Loss: 0.0300, Train Acc: 0.9950, Test Acc: 0.8806\n"
     ]
    },
    {
     "name": "stderr",
     "output_type": "stream",
     "text": [
      "Epoch 20/20: 100%|██████████| 625/625 [00:49<00:00, 12.72it/s]\n"
     ]
    },
    {
     "name": "stdout",
     "output_type": "stream",
     "text": [
      "Epoch 20 Loss: 0.0329, Train Acc: 0.9939, Test Acc: 0.8745\n",
      "Training completed. Best Test Accuracy: 88.30%\n",
      "Best model saved as best_hybrid_model.pt\n",
      "              precision    recall  f1-score   support\n",
      "\n",
      "         0.0       0.87      0.90      0.88      4961\n",
      "         1.0       0.89      0.87      0.88      5039\n",
      "\n",
      "    accuracy                           0.88     10000\n",
      "   macro avg       0.88      0.88      0.88     10000\n",
      "weighted avg       0.88      0.88      0.88     10000\n",
      "\n"
     ]
    }
   ],
   "source": [
    "import pandas as pd\n",
    "import numpy as np\n",
    "import torch\n",
    "import torch.nn as nn\n",
    "from torch.utils.data import Dataset, DataLoader\n",
    "from tqdm import tqdm\n",
    "from sklearn.model_selection import train_test_split\n",
    "from sklearn.metrics import classification_report\n",
    "import gensim.downloader as api\n",
    "\n",
    "# --------------------\n",
    "# 1. Data Loading & Preprocessing\n",
    "# --------------------\n",
    "# Load dataset\n",
    "df = pd.read_csv('modified_dataset_for_ML.csv')\n",
    "\n",
    "# Device\n",
    "device = torch.device(\"cuda\" if torch.cuda.is_available() else \"cpu\")\n",
    "print(\"Device:\", device)\n",
    "\n",
    "# Load pre-trained Word2Vec\n",
    "w2v_model = api.load(\"word2vec-google-news-300\")\n",
    "\n",
    "MAX_LEN = 300\n",
    "EMBEDDING_DIM = 300\n",
    "\n",
    "def get_word_vector(word):\n",
    "    try:\n",
    "        return w2v_model[word]\n",
    "    except KeyError:\n",
    "        return np.zeros(EMBEDDING_DIM)\n",
    "\n",
    "\n",
    "def review_to_tensor(review):\n",
    "    tokens = review.split()[:MAX_LEN]\n",
    "    vecs = [get_word_vector(w) for w in tokens]\n",
    "    if len(vecs) < MAX_LEN:\n",
    "        vecs += [np.zeros(EMBEDDING_DIM)] * (MAX_LEN - len(vecs))\n",
    "    return np.array(vecs, dtype=np.float32)\n",
    "\n",
    "\n",
    "# Dataset Class\n",
    "class IMDBDataset(Dataset):\n",
    "    def __init__(self, dataframe):\n",
    "        self.reviews = dataframe['processed_review'].values\n",
    "        self.labels = dataframe['sentiment'].values\n",
    "\n",
    "    def __len__(self):\n",
    "        return len(self.reviews)\n",
    "\n",
    "    def __getitem__(self, idx):\n",
    "        review_tensor = review_to_tensor(self.reviews[idx])\n",
    "        label = torch.tensor(self.labels[idx], dtype=torch.float32)\n",
    "        return review_tensor, label\n",
    "\n",
    "\n",
    "# Create DataLoaders\n",
    "batch_size = 64\n",
    "train_df, test_df = train_test_split(df, test_size=0.2, random_state=42)\n",
    "train_loader = DataLoader(IMDBDataset(train_df), batch_size=batch_size, shuffle=True)\n",
    "test_loader  = DataLoader(IMDBDataset(test_df),  batch_size=batch_size, shuffle=False)\n",
    "\n",
    "# --------------------\n",
    "# 2. Hybrid CNN-LSTM Model\n",
    "# --------------------\n",
    "class HybridCNNLSTM(nn.Module):\n",
    "    def __init__(self, emb_dim, n_filters, filter_sizes, lstm_hidden, output_dim, dropout=0.5):\n",
    "        super(HybridCNNLSTM, self).__init__()\n",
    "        # Multi-kernel CNN layers\n",
    "        self.convs = nn.ModuleList([\n",
    "            nn.Conv2d(1, n_filters, (fs, emb_dim), padding=(fs//2, 0))\n",
    "            for fs in filter_sizes\n",
    "        ])\n",
    "        self.pool    = nn.MaxPool1d(kernel_size=2)\n",
    "        self.relu    = nn.ReLU()\n",
    "        self.dropout = nn.Dropout(dropout)\n",
    "\n",
    "        # 2-layer Bi-directional LSTM\n",
    "        self.lstm = nn.LSTM(\n",
    "            input_size = n_filters * len(filter_sizes),\n",
    "            hidden_size= lstm_hidden,\n",
    "            num_layers = 2,\n",
    "            batch_first= True,\n",
    "            bidirectional=True,\n",
    "            dropout=dropout\n",
    "        )\n",
    "\n",
    "        # Final fully connected layer\n",
    "        self.fc = nn.Linear(lstm_hidden * 2, output_dim)\n",
    "\n",
    "    def forward(self, x):\n",
    "        # x: [batch, seq_len, emb_dim]\n",
    "        x = x.unsqueeze(1)  # [batch, 1, seq_len, emb_dim]\n",
    "        conv_outs = []\n",
    "        for conv in self.convs:\n",
    "            c = self.relu(conv(x)).squeeze(3)  # [batch, n_filters, seq_len]\n",
    "            c = self.pool(c)                   # [batch, n_filters, seq_len//2]\n",
    "            conv_outs.append(c)\n",
    "        # Concatenate along filter dimension\n",
    "        x_cat = torch.cat(conv_outs, dim=1)  # [batch, n_filters*len, seq_len//2]\n",
    "        x_cat = x_cat.permute(0, 2, 1)        # [batch, seq_len//2, n_filters*len]\n",
    "\n",
    "        # LSTM\n",
    "        lstm_out, _ = self.lstm(x_cat)       # [batch, seq_len//2, lstm_hidden*2]\n",
    "        last = lstm_out[:, -1, :]            # [batch, lstm_hidden*2]\n",
    "        out  = self.dropout(last)\n",
    "        return torch.sigmoid(self.fc(out))   # [batch, 1]\n",
    "\n",
    "# Instantiate model\n",
    "model = HybridCNNLSTM(\n",
    "    emb_dim=EMBEDDING_DIM,\n",
    "    n_filters=100,\n",
    "    filter_sizes=[3, 4, 5],\n",
    "    lstm_hidden=128,\n",
    "    output_dim=1,\n",
    "    dropout=0.5\n",
    ").to(device)\n",
    "\n",
    "criterion = nn.BCELoss()\n",
    "optimizer = torch.optim.Adam(model.parameters(), lr=1e-3)\n",
    "num_epochs = 20\n",
    "best_test_acc = 0.0\n",
    "best_model_path = \"best_hybrid_model.pt\"\n",
    "\n",
    "# --------------------\n",
    "# 3. Training Loop\n",
    "# --------------------\n",
    "print(\"Starting training...\")\n",
    "for epoch in range(1, num_epochs+1):\n",
    "    model.train()\n",
    "    total_loss = 0.0\n",
    "    for inputs, labels in tqdm(train_loader, desc=f\"Epoch {epoch}/{num_epochs}\"):\n",
    "        inputs = inputs.to(device)\n",
    "        labels = labels.to(device).unsqueeze(1)\n",
    "\n",
    "        outputs = model(inputs)\n",
    "        loss = criterion(outputs, labels)\n",
    "\n",
    "        optimizer.zero_grad()\n",
    "        loss.backward()\n",
    "        optimizer.step()\n",
    "        total_loss += loss.item()\n",
    "\n",
    "    # Accuracy function\n",
    "    def calculate_accuracy(loader):\n",
    "        model.eval()\n",
    "        correct, total = 0, 0\n",
    "        with torch.no_grad():\n",
    "            for Xb, yb in loader:\n",
    "                Xb = Xb.to(device)\n",
    "                yb = yb.to(device).unsqueeze(1)\n",
    "                preds = model(Xb)\n",
    "                predicted = (preds > 0.5).float()\n",
    "                correct += (predicted == yb).sum().item()\n",
    "                total += yb.size(0)\n",
    "        return correct / total\n",
    "\n",
    "    train_acc = calculate_accuracy(train_loader)\n",
    "    test_acc  = calculate_accuracy(test_loader)\n",
    "\n",
    "    print(f\"Epoch {epoch} Loss: {total_loss/len(train_loader):.4f}, \"\n",
    "          f\"Train Acc: {train_acc:.4f}, Test Acc: {test_acc:.4f}\")\n",
    "\n",
    "    # Save best model\n",
    "    if test_acc > best_test_acc:\n",
    "        best_test_acc = test_acc\n",
    "        torch.save(model.state_dict(), best_model_path)\n",
    "\n",
    "print(f\"Training completed. Best Test Accuracy: {best_test_acc*100:.2f}%\")\n",
    "print(f\"Best model saved as {best_model_path}\")\n",
    "\n",
    "# --------------------\n",
    "# 4. Evaluate Best Model\n",
    "# --------------------\n",
    "model.load_state_dict(torch.load(best_model_path))\n",
    "model.eval()\n",
    "\n",
    "y_true, y_pred = [], []\n",
    "with torch.no_grad():\n",
    "    for inputs, labels in test_loader:\n",
    "        inputs = inputs.to(device)\n",
    "        preds  = (model(inputs) > 0.5).long().cpu().numpy().flatten()\n",
    "        y_pred.extend(preds.tolist())\n",
    "        y_true.extend(labels.numpy().tolist())\n",
    "\n",
    "print(classification_report(y_true, y_pred))\n"
   ]
  },
  {
   "cell_type": "code",
   "execution_count": 6,
   "id": "040a0b09",
   "metadata": {},
   "outputs": [
    {
     "data": {
      "image/png": "[encoded data removed]",
      "text/plain": [
       "<Figure size 600x600 with 1 Axes>"
      ]
     },
     "metadata": {},
     "output_type": "display_data"
    },
    {
     "name": "stdout",
     "output_type": "stream",
     "text": [
      "Classification Report:\n",
      "\n",
      "              precision    recall  f1-score   support\n",
      "\n",
      "    Negative       0.87      0.90      0.88      4961\n",
      "    Positive       0.89      0.87      0.88      5039\n",
      "\n",
      "    accuracy                           0.88     10000\n",
      "   macro avg       0.88      0.88      0.88     10000\n",
      "weighted avg       0.88      0.88      0.88     10000\n",
      "\n"
     ]
    },
    {
     "data": {
      "image/png": "[encoded data removed]",
      "text/plain": [
       "<Figure size 600x600 with 1 Axes>"
      ]
     },
     "metadata": {},
     "output_type": "display_data"
    }
   ],
   "source": [
    "import matplotlib.pyplot as plt\n",
    "from sklearn.metrics import confusion_matrix, ConfusionMatrixDisplay, classification_report, roc_curve, auc\n",
    "\n",
    "# Load Best Model for Evaluation\n",
    "model.load_state_dict(torch.load(best_model_path))\n",
    "model.eval()\n",
    "\n",
    "# Collect predictions\n",
    "model.eval()\n",
    "all_preds = []\n",
    "all_labels = []\n",
    "all_probs = []\n",
    "\n",
    "with torch.no_grad():\n",
    "    for inputs, labels in test_loader:\n",
    "        inputs = inputs.to(device)\n",
    "        labels = labels.to(device).unsqueeze(1)\n",
    "        outputs = model(inputs)\n",
    "        probs = outputs.cpu().numpy().flatten()\n",
    "        predicted = (outputs > 0.5).float().cpu().numpy().flatten()\n",
    "\n",
    "        all_preds.extend(predicted)\n",
    "        all_labels.extend(labels.cpu().numpy().flatten())\n",
    "        all_probs.extend(probs)\n",
    "\n",
    "# Confusion Matrix (Blue-White)\n",
    "cm = confusion_matrix(all_labels, all_preds)\n",
    "disp = ConfusionMatrixDisplay(confusion_matrix=cm, display_labels=['Negative', 'Positive'])\n",
    "fig, ax = plt.subplots(figsize=(6, 6))\n",
    "disp.plot(cmap='Blues', ax=ax, colorbar=False)\n",
    "plt.title(\"Confusion Matrix\")\n",
    "plt.show()\n",
    "\n",
    "# Classification Report\n",
    "print(\"Classification Report:\\n\")\n",
    "print(classification_report(all_labels, all_preds, target_names=['Negative', 'Positive']))\n",
    "\n",
    "# ROC Curve\n",
    "fpr, tpr, _ = roc_curve(all_labels, all_probs)\n",
    "roc_auc = auc(fpr, tpr)\n",
    "\n",
    "plt.figure(figsize=(6, 6))\n",
    "plt.plot(fpr, tpr, color='orange', lw=2, label='ROC curve (AUC = %0.2f)' % roc_auc)\n",
    "plt.plot([0, 1], [0, 1], color='gray', lw=1, linestyle='--')\n",
    "plt.xlabel('False Positive Rate')\n",
    "plt.ylabel('True Positive Rate')\n",
    "plt.title('Receiver Operating Characteristic')\n",
    "plt.legend(loc=\"lower right\")\n",
    "plt.grid()\n",
    "plt.show()\n"
   ]
  },
  {
   "cell_type": "code",
   "execution_count": null,
   "id": "11b95aa9",
   "metadata": {},
   "outputs": [],
   "source": []
  }
 ],
 "metadata": {
  "kernelspec": {
   "display_name": ".vnev",
   "language": "python",
   "name": "python3"
  },
  "language_info": {
   "codemirror_mode": {
    "name": "ipython",
    "version": 3
   },
   "file_extension": ".py",
   "mimetype": "text/x-python",
   "name": "python",
   "nbconvert_exporter": "python",
   "pygments_lexer": "ipython3",
   "version": "3.10.11"
  }
 },
 "nbformat": 4,
 "nbformat_minor": 5
}
